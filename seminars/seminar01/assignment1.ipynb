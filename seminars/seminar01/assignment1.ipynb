{
 "cells": [
  {
   "cell_type": "markdown",
   "id": "b735f992",
   "metadata": {},
   "source": [
    "#Assignment 1\n"
   ]
  },
  {
   "cell_type": "markdown",
   "id": "f27b9dd3",
   "metadata": {},
   "source": [
    "#Hello"
   ]
  },
  {
   "cell_type": "code",
   "execution_count": null,
   "id": "236758d3",
   "metadata": {},
   "outputs": [],
   "source": []
  }
 ],
 "metadata": {
  "language_info": {
   "name": "python"
  }
 },
 "nbformat": 4,
 "nbformat_minor": 5
}
